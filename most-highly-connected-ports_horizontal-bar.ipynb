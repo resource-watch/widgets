{
 "cells": [
  {
   "cell_type": "markdown",
   "metadata": {},
   "source": [
    "### Data\n",
    "com.029 Global Container Port Network <br>\n",
    "https://resourcewatch.carto.com/u/wri-rw/dataset/com_029_data_global_container_port_network <br>"
   ]
  },
  {
   "cell_type": "code",
   "execution_count": 2,
   "metadata": {},
   "outputs": [],
   "source": [
    "import numpy as np\n",
    "import vega\n",
    "import json\n",
    "from vega import Vega"
   ]
  },
  {
   "cell_type": "markdown",
   "metadata": {},
   "source": [
    "### Resource Watch specification\n",
    "API ID: 707dfd6e-e2ed-49ec-a0f5-70c8f716a744 <br>\n",
    "https://resourcewatch.org/embed/widget/707dfd6e-e2ed-49ec-a0f5-70c8f716a744"
   ]
  },
  {
   "cell_type": "code",
   "execution_count": 6,
   "metadata": {},
   "outputs": [
    {
     "data": {
      "text/html": [
       "<div class=\"vega-embed\" id=\"6b2ade96-66a6-4822-b705-d17704e94830\"></div>\n",
       "\n",
       "<style>\n",
       ".vega-embed .error p {\n",
       "    color: firebrick;\n",
       "    font-size: 14px;\n",
       "}\n",
       "</style>\n"
      ]
     },
     "metadata": {
      "jupyter-vega": "#6b2ade96-66a6-4822-b705-d17704e94830"
     },
     "output_type": "display_data"
    },
    {
     "data": {
      "application/javascript": [
       "var spec = {\"height\": 300, \"width\": 300, \"autosize\": {\"contains\": \"padding\", \"type\": \"pad\", \"resize\": true}, \"scales\": [{\"range\": \"width\", \"domain\": {\"field\": \"x\", \"data\": \"table\"}, \"type\": \"linear\", \"name\": \"x\", \"nice\": true}, {\"padding\": 0.05, \"range\": \"height\", \"domain\": {\"field\": \"y\", \"data\": \"table\"}, \"type\": \"band\", \"name\": \"y\"}], \"marks\": [{\"encode\": {\"hover\": {\"opacity\": {\"value\": 0.8}}, \"update\": {\"opacity\": {\"value\": 1}, \"x\": {\"scale\": \"x\", \"value\": 0}, \"x2\": {\"field\": \"x\", \"scale\": \"x\"}, \"y\": {\"field\": \"y\", \"scale\": \"y\"}, \"height\": {\"band\": 1, \"scale\": \"y\"}}}, \"from\": {\"data\": \"table\"}, \"type\": \"rect\"}], \"axes\": [{\"scale\": \"x\", \"title\": \"Port Connectivity, Outbound Traffic\", \"format\": \".2\", \"tickCount\": 5, \"labelOverlap\": \"parity\", \"orient\": \"bottom\"}, {\"scale\": \"y\", \"orient\": \"left\", \"labelOverlap\": \"parity\"}], \"data\": [{\"url\": \"https://api.resourcewatch.org/v1/query/c17296d6-8629-4769-900b-81d7a7037b1e?sql=SELECT port AS y, pciinbound, pcioutbound AS x FROM com_029_data_global_container_port_network ORDER BY pcioutbound DESC LIMIT 10\", \"name\": \"table\", \"format\": {\"property\": \"data\", \"type\": \"json\"}}], \"interaction_config\": [{\"config\": {\"fields\": [{\"column\": \"x\", \"property\": \"Connectivity\", \"type\": \"number\", \"format\": \".2\"}, {\"column\": \"y\", \"property\": \"Port\", \"type\": \"string\"}]}, \"name\": \"tooltip\"}]};\n",
       "var opt = {};\n",
       "var selector = \"#6b2ade96-66a6-4822-b705-d17704e94830\";\n",
       "var type = \"vega\";\n",
       "\n",
       "var output_area = this;\n",
       "\n",
       "require(['nbextensions/jupyter-vega/index'], function(vega) {\n",
       "  vega.render(selector, spec, type, opt, output_area);\n",
       "}, function (err) {\n",
       "  if (err.requireType !== 'scripterror') {\n",
       "    throw(err);\n",
       "  }\n",
       "});\n"
      ]
     },
     "metadata": {
      "jupyter-vega": "#6b2ade96-66a6-4822-b705-d17704e94830"
     },
     "output_type": "display_data"
    },
    {
     "data": {
      "image/png": "[encoded data removed]"
     },
     "metadata": {
      "jupyter-vega": "#6b2ade96-66a6-4822-b705-d17704e94830"
     },
     "output_type": "display_data"
    }
   ],
   "source": [
    "specV3=json.loads(\"\"\"\n",
    "{\n",
    "  \"autosize\": {\n",
    "    \"type\": \"pad\",\n",
    "    \"resize\": true,\n",
    "    \"contains\": \"padding\"\n",
    "  },\n",
    "  \"data\": [\n",
    "    {\n",
    "      \"name\": \"table\",\n",
    "      \"url\": \"https://api.resourcewatch.org/v1/query/c17296d6-8629-4769-900b-81d7a7037b1e?sql=SELECT port AS y, pciinbound, pcioutbound AS x FROM com_029_data_global_container_port_network ORDER BY pcioutbound DESC LIMIT 10\",\n",
    "      \"format\": {\n",
    "        \"type\": \"json\",\n",
    "        \"property\": \"data\"\n",
    "      }\n",
    "    }\n",
    "  ],\n",
    "  \"marks\": [\n",
    "    {\n",
    "      \"type\": \"rect\",\n",
    "      \"from\": {\n",
    "        \"data\": \"table\"\n",
    "      },\n",
    "      \"encode\": {\n",
    "        \"update\": {\n",
    "          \"opacity\": {\n",
    "            \"value\": 1\n",
    "          },\n",
    "          \"x\": {\n",
    "            \"scale\": \"x\",\n",
    "            \"value\": 0\n",
    "          },\n",
    "          \"x2\": {\n",
    "            \"scale\": \"x\",\n",
    "            \"field\": \"x\"\n",
    "          },\n",
    "          \"y\": {\n",
    "            \"scale\": \"y\",\n",
    "            \"field\": \"y\"\n",
    "          },\n",
    "          \"height\": {\n",
    "            \"scale\": \"y\",\n",
    "            \"band\": 1\n",
    "          }\n",
    "        },\n",
    "        \"hover\": {\n",
    "          \"opacity\": {\n",
    "            \"value\": 0.8\n",
    "          }\n",
    "        }\n",
    "      }\n",
    "    }\n",
    "  ],\n",
    "  \"scales\": [\n",
    "    {\n",
    "      \"name\": \"x\",\n",
    "      \"type\": \"linear\",\n",
    "      \"domain\": {\n",
    "        \"data\": \"table\",\n",
    "        \"field\": \"x\"\n",
    "      },\n",
    "      \"range\": \"width\",\n",
    "      \"nice\": true\n",
    "    },\n",
    "    {\n",
    "      \"name\": \"y\",\n",
    "      \"type\": \"band\",\n",
    "      \"domain\": {\n",
    "        \"data\": \"table\",\n",
    "        \"field\": \"y\"\n",
    "      },\n",
    "      \"range\": \"height\",\n",
    "      \"padding\": 0.05\n",
    "    }\n",
    "  ],\n",
    "  \"axes\": [\n",
    "    {\n",
    "      \"scale\": \"x\",\n",
    "      \"orient\": \"bottom\",\n",
    "      \"labelOverlap\": \"parity\",\n",
    "      \"format\": \".2\",\n",
    "      \"tickCount\": 5,\n",
    "      \"title\": \"Port Connectivity, Outbound Traffic\"\n",
    "    },\n",
    "    {\n",
    "      \"scale\": \"y\",\n",
    "      \"labelOverlap\": \"parity\",\n",
    "      \"orient\": \"left\"\n",
    "    }\n",
    "  ],\n",
    "  \"interaction_config\": [\n",
    "    {\n",
    "      \"name\": \"tooltip\",\n",
    "      \"config\": {\n",
    "        \"fields\": [\n",
    "          {\n",
    "            \"column\": \"x\",\n",
    "            \"property\": \"Connectivity\",\n",
    "            \"type\": \"number\",\n",
    "            \"format\": \".2\"\n",
    "          },\n",
    "          {\n",
    "            \"column\": \"y\",\n",
    "            \"property\": \"Port\",\n",
    "            \"type\": \"string\"\n",
    "          }\n",
    "        ]\n",
    "      }\n",
    "    }\n",
    "  ]\n",
    "}\n",
    "\"\"\")\n",
    "vega4view=dict(specV3)\n",
    "#vega4view['config']=json.loads(Config)\n",
    "vega4view['width']=300\n",
    "vega4view['height']=300\n",
    "Vega(vega4view)"
   ]
  },
  {
   "cell_type": "markdown",
   "metadata": {},
   "source": [
    "### Stand-alone specification\n",
    "(eg for use with https://vega.github.io/editor/#/)"
   ]
  },
  {
   "cell_type": "code",
   "execution_count": 10,
   "metadata": {},
   "outputs": [
    {
     "data": {
      "text/html": [
       "<div class=\"vega-embed\" id=\"827cf6d1-3855-4574-8cbe-e73e07313a14\"></div>\n",
       "\n",
       "<style>\n",
       ".vega-embed .error p {\n",
       "    color: firebrick;\n",
       "    font-size: 14px;\n",
       "}\n",
       "</style>\n"
      ]
     },
     "metadata": {
      "jupyter-vega": "#827cf6d1-3855-4574-8cbe-e73e07313a14"
     },
     "output_type": "display_data"
    },
    {
     "data": {
      "application/javascript": [
       "var spec = {\"width\": 300, \"autosize\": {\"contains\": \"padding\", \"type\": \"pad\", \"resize\": true}, \"scales\": [{\"range\": \"width\", \"domain\": {\"field\": \"x\", \"data\": \"table\"}, \"type\": \"linear\", \"name\": \"x\", \"nice\": true}, {\"padding\": 0.05, \"range\": \"height\", \"domain\": {\"field\": \"y\", \"data\": \"table\"}, \"type\": \"band\", \"name\": \"y\"}], \"marks\": [{\"encode\": {\"hover\": {\"opacity\": {\"value\": 0.8}, \"tooltip\": {\"signal\": \"{'Connectivity':datum.x,'Port':datum.y}\"}}, \"update\": {\"opacity\": {\"value\": 1}, \"x\": {\"scale\": \"x\", \"value\": 0}, \"x2\": {\"field\": \"x\", \"scale\": \"x\"}, \"y\": {\"field\": \"y\", \"scale\": \"y\"}, \"height\": {\"band\": 1, \"scale\": \"y\"}}}, \"from\": {\"data\": \"table\"}, \"type\": \"rect\"}], \"axes\": [{\"scale\": \"x\", \"title\": \"Port Connectivity, Outbound Traffic\", \"format\": \".2\", \"tickCount\": 5, \"grid\": true, \"labelOverlap\": \"parity\", \"orient\": \"bottom\"}, {\"scale\": \"y\", \"grid\": false, \"orient\": \"left\", \"labelOverlap\": \"parity\"}], \"data\": [{\"url\": \"https://wri-rw.carto.com/api/v2/sql?q=SELECT port AS y, pciinbound, pcioutbound AS x FROM com_029_data_global_container_port_network ORDER BY pcioutbound DESC LIMIT 10\", \"name\": \"table\", \"format\": {\"property\": \"rows\", \"type\": \"json\"}}], \"height\": 300};\n",
       "var opt = {};\n",
       "var selector = \"#827cf6d1-3855-4574-8cbe-e73e07313a14\";\n",
       "var type = \"vega\";\n",
       "\n",
       "var output_area = this;\n",
       "\n",
       "require(['nbextensions/jupyter-vega/index'], function(vega) {\n",
       "  vega.render(selector, spec, type, opt, output_area);\n",
       "}, function (err) {\n",
       "  if (err.requireType !== 'scripterror') {\n",
       "    throw(err);\n",
       "  }\n",
       "});\n"
      ]
     },
     "metadata": {
      "jupyter-vega": "#827cf6d1-3855-4574-8cbe-e73e07313a14"
     },
     "output_type": "display_data"
    },
    {
     "data": {
      "image/png": "[encoded data removed]"
     },
     "metadata": {
      "jupyter-vega": "#827cf6d1-3855-4574-8cbe-e73e07313a14"
     },
     "output_type": "display_data"
    }
   ],
   "source": [
    "specV3=json.loads(\"\"\"\n",
    "{\n",
    "  \"width\": 300,\n",
    "  \"height\": 300,\n",
    "  \"autosize\": {\n",
    "    \"type\": \"pad\",\n",
    "    \"resize\": true,\n",
    "    \"contains\": \"padding\"\n",
    "  },\n",
    "  \"data\": [\n",
    "    {\n",
    "      \"name\": \"table\",\n",
    "      \"url\": \"https://wri-rw.carto.com/api/v2/sql?q=SELECT port AS y, pciinbound, pcioutbound AS x FROM com_029_data_global_container_port_network ORDER BY pcioutbound DESC LIMIT 10\",\n",
    "      \"format\": {\n",
    "        \"type\": \"json\",\n",
    "        \"property\": \"rows\"\n",
    "      }\n",
    "    }\n",
    "  ],\n",
    "  \"scales\": [\n",
    "    {\n",
    "      \"name\": \"x\",\n",
    "      \"type\": \"linear\",\n",
    "      \"domain\": {\n",
    "        \"data\": \"table\",\n",
    "        \"field\": \"x\"\n",
    "      },\n",
    "      \"range\": \"width\",\n",
    "      \"nice\": true\n",
    "    },\n",
    "    {\n",
    "      \"name\": \"y\",\n",
    "      \"type\": \"band\",\n",
    "      \"domain\": {\n",
    "        \"data\": \"table\",\n",
    "        \"field\": \"y\"\n",
    "      },\n",
    "      \"range\": \"height\",\n",
    "      \"padding\": 0.05\n",
    "    }\n",
    "  ],\n",
    "  \"axes\": [\n",
    "    {\n",
    "      \"scale\": \"x\",\n",
    "      \"orient\": \"bottom\",\n",
    "      \"labelOverlap\": \"parity\",\n",
    "      \"format\": \".2\",\n",
    "      \"tickCount\": 5,\n",
    "      \"title\": \"Port Connectivity, Outbound Traffic\",\n",
    "      \"grid\": true\n",
    "    },\n",
    "    {\n",
    "      \"scale\": \"y\",\n",
    "      \"labelOverlap\": \"parity\",\n",
    "      \"orient\": \"left\",\n",
    "      \"grid\": false\n",
    "    }\n",
    "  ],\n",
    "  \"marks\": [\n",
    "    {\n",
    "      \"type\": \"rect\",\n",
    "      \"from\": {\n",
    "        \"data\": \"table\"\n",
    "      },\n",
    "      \"encode\": {\n",
    "        \"update\": {\n",
    "          \"opacity\": {\n",
    "            \"value\": 1\n",
    "          },\n",
    "          \"x\": {\n",
    "            \"scale\": \"x\",\n",
    "            \"value\": 0\n",
    "          },\n",
    "          \"x2\": {\n",
    "            \"scale\": \"x\",\n",
    "            \"field\": \"x\"\n",
    "          },\n",
    "          \"y\": {\n",
    "            \"scale\": \"y\",\n",
    "            \"field\": \"y\"\n",
    "          },\n",
    "          \"height\": {\n",
    "            \"scale\": \"y\",\n",
    "            \"band\": 1\n",
    "          }\n",
    "        },\n",
    "        \"hover\": {\n",
    "          \"opacity\": {\n",
    "            \"value\": 0.8\n",
    "          },\n",
    "          \"tooltip\": {\n",
    "            \"signal\": \"{'Connectivity':datum.x,'Port':datum.y}\"\n",
    "          }\n",
    "        }\n",
    "      }\n",
    "    }\n",
    "  ]\n",
    "}\n",
    "\"\"\")\n",
    "vega4view=dict(specV3)\n",
    "#vega4view['config']=json.loads(Config)\n",
    "Vega(vega4view)"
   ]
  }
 ],
 "metadata": {
  "kernelspec": {
   "display_name": "Python 2",
   "language": "python",
   "name": "python2"
  },
  "language_info": {
   "codemirror_mode": {
    "name": "ipython",
    "version": 2
   },
   "file_extension": ".py",
   "mimetype": "text/x-python",
   "name": "python",
   "nbconvert_exporter": "python",
   "pygments_lexer": "ipython2",
   "version": "2.7.14"
  }
 },
 "nbformat": 4,
 "nbformat_minor": 2
}
